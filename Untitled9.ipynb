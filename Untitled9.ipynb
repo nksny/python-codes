{
 "cells": [
  {
   "cell_type": "code",
   "execution_count": 2,
   "metadata": {
    "collapsed": true
   },
   "outputs": [],
   "source": [
    "import datetime\n",
    "\n",
    "class Person(object):\n",
    "    def __init__(self, name):\n",
    "        self.name = name\n",
    "        try:\n",
    "            lastBlank = name.rindex(' ')\n",
    "            self.lastName = name[lastBlank + 1:]\n",
    "        except:\n",
    "            self.lastName = name\n",
    "        self.birthday = None\n",
    "        \n",
    "    def getName(self):\n",
    "        return self.name\n",
    "    \n",
    "    def getLastName(self):\n",
    "        return self.lastName\n",
    "    \n",
    "    def setBirthday(self, birthdate):\n",
    "        self.birthday = birthdate\n",
    "        \n",
    "    def getAge(self):\n",
    "        if self.birthday == None:\n",
    "            raise ValueError\n",
    "        return (datetime.date.today() - self.birthday).days\n",
    "    \n",
    "    def __lt__(self, other):\n",
    "        if self.lastName==other.lastName:\n",
    "            return self.lastName < other.name\n",
    "        return self.lastName < other.lastName\n",
    "    \n",
    "    def __str__(self):\n",
    "        return self.name"
   ]
  },
  {
   "cell_type": "code",
   "execution_count": 3,
   "metadata": {},
   "outputs": [
    {
     "name": "stdout",
     "output_type": "stream",
     "text": [
      "Obama\n",
      "Barack Hussein Obama is 20691 days old\n"
     ]
    }
   ],
   "source": [
    "me = Person('Michael Guttag')\n",
    "him = Person('Barack Hussein Obama')\n",
    "her = Person('Madonna')\n",
    "print(him.getLastName())\n",
    "him.setBirthday(datetime.date(1961, 8, 4))\n",
    "her.setBirthday(datetime.date(1958, 8, 16))\n",
    "print(him.getName(), 'is', him.getAge(), 'days old')"
   ]
  },
  {
   "cell_type": "code",
   "execution_count": 4,
   "metadata": {
    "collapsed": true
   },
   "outputs": [],
   "source": [
    "class MITPerson(Person):\n",
    "    nextIdNum = 0\n",
    "    \n",
    "    def __init__(self, name):\n",
    "        Person.__init__(self, name)\n",
    "        self.idNum = MITPerson.nextIdNum\n",
    "        MITPerson.nextIdNum += 1\n",
    "        \n",
    "    def getIdNum(self):\n",
    "        return self.idNum\n",
    "    \n",
    "    def __lt__(self, other):\n",
    "        return self.idNum < other.idNum"
   ]
  },
  {
   "cell_type": "code",
   "execution_count": 5,
   "metadata": {},
   "outputs": [
    {
     "name": "stdout",
     "output_type": "stream",
     "text": [
      "Barbara Beaver's id number is 0\n"
     ]
    }
   ],
   "source": [
    "p1 = MITPerson('Barbara Beaver')\n",
    "print(str(p1) + '\\'s id number is ' + str(p1.getIdNum()))"
   ]
  },
  {
   "cell_type": "code",
   "execution_count": 6,
   "metadata": {
    "collapsed": true
   },
   "outputs": [],
   "source": [
    "p1 = MITPerson('Mark Guttag')\n",
    "p2 = MITPerson('Billy Bob Beaver')\n",
    "p3 = MITPerson('Billy Bob Beaver')\n",
    "p4 = Person('Billy Bob Beaver')"
   ]
  },
  {
   "cell_type": "code",
   "execution_count": 7,
   "metadata": {},
   "outputs": [
    {
     "name": "stdout",
     "output_type": "stream",
     "text": [
      "p1 < p2 = True\n",
      "p3 < p2 = False\n",
      "p4 < p1 = True\n"
     ]
    }
   ],
   "source": [
    "print('p1 < p2 =', p1 < p2)\n",
    "print('p3 < p2 =', p3 < p2)\n",
    "print('p4 < p1 =', p4 < p1)"
   ]
  },
  {
   "cell_type": "code",
   "execution_count": 8,
   "metadata": {
    "collapsed": true
   },
   "outputs": [],
   "source": [
    "class Student(MITPerson):\n",
    "    def isStudent(self):\n",
    "        return isinstance(self, Student)\n",
    "class UG(Student):\n",
    "    def __init__(self, name, classYear):\n",
    "        MITPerson.__init__(self, name)\n",
    "        self.year = classYear\n",
    "    def getClass(self):\n",
    "        return self.year\n",
    "    \n",
    "class Grad(Student):\n",
    "    pass\n",
    "\n",
    "class TransferStudent(Student):\n",
    "    \n",
    "    def init(self, name, fromschool):\n",
    "        MITPerson.__init__(self, name)\n",
    "        self.fromSchool = fromSchool\n",
    "        \n",
    "    def getOldSchool(self):\n",
    "        return self.fromSchool"
   ]
  },
  {
   "cell_type": "code",
   "execution_count": 9,
   "metadata": {},
   "outputs": [
    {
     "name": "stdout",
     "output_type": "stream",
     "text": [
      "Buzz Aldrin is a graduate student is True\n",
      "Buzz Aldrin is an undergraduate student is False\n"
     ]
    }
   ],
   "source": [
    "p5 = Grad('Buzz Aldrin')\n",
    "p6 = UG('Billy Beaver', 1984)\n",
    "print(p5, 'is a graduate student is', type(p5)==Grad)\n",
    "print(p5, 'is an undergraduate student is', type(p5)==UG)"
   ]
  },
  {
   "cell_type": "code",
   "execution_count": 10,
   "metadata": {},
   "outputs": [
    {
     "name": "stdout",
     "output_type": "stream",
     "text": [
      "Buzz Aldrin is a student is True\n",
      "Billy Beaver is a student is True\n"
     ]
    },
    {
     "ename": "AttributeError",
     "evalue": "'MITPerson' object has no attribute 'isStudent'",
     "output_type": "error",
     "traceback": [
      "\u001b[1;31m---------------------------------------------------------------------------\u001b[0m",
      "\u001b[1;31mAttributeError\u001b[0m                            Traceback (most recent call last)",
      "\u001b[1;32m<ipython-input-10-d98e578e79e4>\u001b[0m in \u001b[0;36m<module>\u001b[1;34m()\u001b[0m\n\u001b[0;32m      1\u001b[0m \u001b[0mprint\u001b[0m\u001b[1;33m(\u001b[0m\u001b[0mp5\u001b[0m\u001b[1;33m,\u001b[0m \u001b[1;34m'is a student is'\u001b[0m\u001b[1;33m,\u001b[0m \u001b[0mp5\u001b[0m\u001b[1;33m.\u001b[0m\u001b[0misStudent\u001b[0m\u001b[1;33m(\u001b[0m\u001b[1;33m)\u001b[0m\u001b[1;33m)\u001b[0m\u001b[1;33m\u001b[0m\u001b[0m\n\u001b[0;32m      2\u001b[0m \u001b[0mprint\u001b[0m\u001b[1;33m(\u001b[0m\u001b[0mp6\u001b[0m\u001b[1;33m,\u001b[0m \u001b[1;34m'is a student is'\u001b[0m\u001b[1;33m,\u001b[0m \u001b[0mp6\u001b[0m\u001b[1;33m.\u001b[0m\u001b[0misStudent\u001b[0m\u001b[1;33m(\u001b[0m\u001b[1;33m)\u001b[0m\u001b[1;33m)\u001b[0m\u001b[1;33m\u001b[0m\u001b[0m\n\u001b[1;32m----> 3\u001b[1;33m \u001b[0mprint\u001b[0m\u001b[1;33m(\u001b[0m\u001b[0mp3\u001b[0m\u001b[1;33m,\u001b[0m \u001b[1;34m'is a student is'\u001b[0m\u001b[1;33m,\u001b[0m \u001b[0mp3\u001b[0m\u001b[1;33m.\u001b[0m\u001b[0misStudent\u001b[0m\u001b[1;33m(\u001b[0m\u001b[1;33m)\u001b[0m\u001b[1;33m)\u001b[0m\u001b[1;33m\u001b[0m\u001b[0m\n\u001b[0m",
      "\u001b[1;31mAttributeError\u001b[0m: 'MITPerson' object has no attribute 'isStudent'"
     ]
    }
   ],
   "source": [
    "print(p5, 'is a student is', p5.isStudent())\n",
    "print(p6, 'is a student is', p6.isStudent())\n",
    "print(p3, 'is a student is', p3.isStudent())"
   ]
  },
  {
   "cell_type": "code",
   "execution_count": 18,
   "metadata": {
    "collapsed": true
   },
   "outputs": [],
   "source": [
    "class Grades(object):\n",
    "    def __init__(self):\n",
    "        self.students = []\n",
    "        self.grades = {}\n",
    "        self.isSorted = True\n",
    "        \n",
    "    def addStudent(self, student):\n",
    "        if student in self.students:\n",
    "            raise ValueError('Duplicate student')\n",
    "        self.students.append(student)\n",
    "        self.grades[student.getIdNum()] = []\n",
    "        self.isSorted = False\n",
    "        \n",
    "    def addGrade(self, student, grade):\n",
    "        try:\n",
    "            self.grades[student.getIdNum()].append(grade)\n",
    "        except:\n",
    "            raise ValueError('Student not in mapping')\n",
    "            \n",
    "    def getGrades(self, student):\n",
    "        try:\n",
    "            return self.grades[student.getIdNum()][:]\n",
    "        except:\n",
    "            raise ValueError('Student not in mapping')\n",
    "            \n",
    "    def getStudents(self):\n",
    "        if not self.isSorted:\n",
    "            self.students.sort()\n",
    "            self.isSorted = True\n",
    "        return self.students[:]"
   ]
  },
  {
   "cell_type": "code",
   "execution_count": 27,
   "metadata": {
    "collapsed": true
   },
   "outputs": [],
   "source": [
    "def gradeReport(course):\n",
    "    report = ''\n",
    "    for s in course.getStudents():\n",
    "        tot = 0.0\n",
    "        numGrades = 0\n",
    "        for g in course.getGrades(s):\n",
    "            tot += g\n",
    "            numGrades += 1\n",
    "        try:\n",
    "            average = tot/numGrades\n",
    "            report = report + '\\n'\\\n",
    "                    + str(s) + '\\'s mean grade is ' + str(average)\n",
    "        except ZeroDivisionError:\n",
    "            report = report + '\\n'\\\n",
    "                    + str(s) + ' has no grades'\n",
    "    return report"
   ]
  },
  {
   "cell_type": "code",
   "execution_count": 28,
   "metadata": {},
   "outputs": [
    {
     "name": "stdout",
     "output_type": "stream",
     "text": [
      "\n",
      "Jane Doe's mean grade is 75.0\n",
      "Tohn Doe's mean grade is 75.0\n",
      "David Henry has no grades\n",
      "Billy Bucker's mean grade is 50.0\n",
      "Bucky F. Dent's mean grade is 87.5\n"
     ]
    }
   ],
   "source": [
    "ug1 = UG('Jane Doe', 2014)\n",
    "ug2 = UG('Tohn Doe', 2015)\n",
    "ug3 = UG('David Henry', 2003)\n",
    "g1 = Grad('Billy Bucker')\n",
    "g2 = Grad('Bucky F. Dent')\n",
    "sixHundred = Grades()\n",
    "sixHundred.addStudent(ug1)\n",
    "sixHundred.addStudent(ug2)\n",
    "sixHundred.addStudent(g1)\n",
    "sixHundred.addStudent(g2)\n",
    "for s in sixHundred.getStudents():\n",
    "    sixHundred.addGrade(s, 75)\n",
    "sixHundred.addGrade(g1, 25)\n",
    "sixHundred.addGrade(g2, 100)\n",
    "sixHundred.addStudent(ug3)\n",
    "print(gradeReport(sixHundred))"
   ]
  },
  {
   "cell_type": "code",
   "execution_count": null,
   "metadata": {
    "collapsed": true
   },
   "outputs": [],
   "source": []
  }
 ],
 "metadata": {
  "kernelspec": {
   "display_name": "Python 3",
   "language": "python",
   "name": "python3"
  },
  "language_info": {
   "codemirror_mode": {
    "name": "ipython",
    "version": 3
   },
   "file_extension": ".py",
   "mimetype": "text/x-python",
   "name": "python",
   "nbconvert_exporter": "python",
   "pygments_lexer": "ipython3",
   "version": "3.6.2"
  }
 },
 "nbformat": 4,
 "nbformat_minor": 2
}
