{
 "cells": [
  {
   "cell_type": "code",
   "execution_count": 2,
   "metadata": {
    "collapsed": true
   },
   "outputs": [],
   "source": [
    "import pandas as pd\n",
    "import numpy as np\n",
    "import matplotlib.pyplot as plt\n",
    "def qwe(k):\n",
    "    b = (6 * np.sin(k * np.radians(0)) + 7.53 * np.sin(k * np.radians(60)) + 7.668 * np.sin(k * np.radians(120)) + 9.297 * np.sin(k * np.radians(180)) + 7.763 * np.sin(k * np.radians(240)) + 4.682 * np.sin(k * np.radians(300))) /3\n",
    "    return b\n",
    "def rty(k):\n",
    "    a = (6 * np.cos(k * np.radians(0)) + 7.53 * np.cos(k * np.radians(60)) + 7.668 * np.cos(k * np.radians(120)) + 9.297 * np.cos(k * np.radians(180)) + 7.763 * np.cos(k * np.radians(240)) + 4.682 * np.cos(k * np.radians(300))) /3\n",
    "    return a"
   ]
  },
  {
   "cell_type": "code",
   "execution_count": 7,
   "metadata": {},
   "outputs": [
    {
     "name": "stdout",
     "output_type": "stream",
     "text": [
      "0.866025403784\n"
     ]
    }
   ],
   "source": [
    "import pandas as pd\n",
    "import numpy as np\n",
    "import matplotlib.pyplot as plt\n",
    "p = np.sin(np.radians(60))\n",
    "print(p)"
   ]
  },
  {
   "cell_type": "code",
   "execution_count": 12,
   "metadata": {},
   "outputs": [
    {
     "name": "stdout",
     "output_type": "stream",
     "text": [
      "-1.6355 0.491833333333\n",
      "0.79472264554 0.849570921113\n"
     ]
    }
   ],
   "source": [
    "print(rty(1),rty(2))\n",
    "print(qwe(1),qwe(2))"
   ]
  },
  {
   "cell_type": "code",
   "execution_count": 36,
   "metadata": {},
   "outputs": [
    {
     "name": "stdout",
     "output_type": "stream",
     "text": [
      "-1.6355 0.491833333333 -0.026 0.491833333333\n",
      "0.79472264554 0.849570921113 5.07942670726e-16 -0.849570921113\n",
      "0\n"
     ]
    }
   ],
   "source": [
    "print(rty(1),rty(2),rty(3),rty(4))\n",
    "print(qwe(1),qwe(2),qwe(3),qwe(4))\n",
    "print(int(qwe(3)))"
   ]
  },
  {
   "cell_type": "code",
   "execution_count": 47,
   "metadata": {},
   "outputs": [
    {
     "data": {
      "image/png": "[encoded data removed]",
      "text/plain": [
       "<matplotlib.figure.Figure at 0x23f0f565828>"
      ]
     },
     "metadata": {},
     "output_type": "display_data"
    }
   ],
   "source": [
    "x = df['th']\n",
    "y = df['f(th)']\n",
    "plt.scatter(x,y)\n",
    "x = np.arange(0,350,0.01)\n",
    "y = 7.157 - 1.6355 * np.cos(np.radians(x)) + 0.4918 *np.cos(2 * np.radians(x)) - 0.026 * np.cos(3 * np.radians(x)) + 0.4918 * np.cos(4 * np.radians(x)) + 0.7947 * np.sin(np.radians(x)) + 0.8496 * np.sin(2 * np.radians(x)) - 0 * np.sin(3 * np.radians(x)) - 0.8496 * np.sin(4 * np.radians(x))\n",
    "plt.plot(x,y,color=\"r\")\n",
    "plt.xlabel(\"θ[deg]\")\n",
    "plt.ylabel(\"F(θ)[mm]\")\n",
    "plt.show()"
   ]
  },
  {
   "cell_type": "code",
   "execution_count": 38,
   "metadata": {},
   "outputs": [
    {
     "data": {
      "image/png": "[encoded data removed]",
      "text/plain": [
       "<matplotlib.figure.Figure at 0x23f0f4d3d68>"
      ]
     },
     "metadata": {},
     "output_type": "display_data"
    }
   ],
   "source": [
    "x = df['th']\n",
    "y = df['f(th)']\n",
    "plt.scatter(x,y)\n",
    "x = np.arange(0,350,0.01)\n",
    "y = 7.157 - 1.6355 * np.cos(np.radians(x)) + 0.4918 *np.cos(2 * np.radians(x)) - 0.026 * np.cos(3 * np.radians(x)) + 0.7947 * np.sin(np.radians(x)) + 0.8496 * np.sin(2 * np.radians(x)) - 0 * np.sin(3 * np.radians(x)) \n",
    "plt.plot(x,y,color=\"r\")\n",
    "plt.xlabel(\"θ[deg]\")\n",
    "plt.ylabel(\"F(θ)[mm]\")\n",
    "plt.show()"
   ]
  },
  {
   "cell_type": "code",
   "execution_count": 15,
   "metadata": {},
   "outputs": [
    {
     "data": {
      "text/html": [
       "<div>\n",
       "<style>\n",
       "    .dataframe thead tr:only-child th {\n",
       "        text-align: right;\n",
       "    }\n",
       "\n",
       "    .dataframe thead th {\n",
       "        text-align: left;\n",
       "    }\n",
       "\n",
       "    .dataframe tbody tr th {\n",
       "        vertical-align: top;\n",
       "    }\n",
       "</style>\n",
       "<table border=\"1\" class=\"dataframe\">\n",
       "  <thead>\n",
       "    <tr style=\"text-align: right;\">\n",
       "      <th></th>\n",
       "      <th>f(th)</th>\n",
       "      <th>th</th>\n",
       "    </tr>\n",
       "  </thead>\n",
       "  <tbody>\n",
       "    <tr>\n",
       "      <th>0</th>\n",
       "      <td>6.000</td>\n",
       "      <td>0</td>\n",
       "    </tr>\n",
       "    <tr>\n",
       "      <th>1</th>\n",
       "      <td>6.435</td>\n",
       "      <td>10</td>\n",
       "    </tr>\n",
       "    <tr>\n",
       "      <th>2</th>\n",
       "      <td>6.863</td>\n",
       "      <td>20</td>\n",
       "    </tr>\n",
       "    <tr>\n",
       "      <th>3</th>\n",
       "      <td>7.137</td>\n",
       "      <td>30</td>\n",
       "    </tr>\n",
       "    <tr>\n",
       "      <th>4</th>\n",
       "      <td>7.402</td>\n",
       "      <td>40</td>\n",
       "    </tr>\n",
       "    <tr>\n",
       "      <th>5</th>\n",
       "      <td>7.482</td>\n",
       "      <td>50</td>\n",
       "    </tr>\n",
       "    <tr>\n",
       "      <th>6</th>\n",
       "      <td>7.530</td>\n",
       "      <td>60</td>\n",
       "    </tr>\n",
       "    <tr>\n",
       "      <th>7</th>\n",
       "      <td>7.523</td>\n",
       "      <td>70</td>\n",
       "    </tr>\n",
       "    <tr>\n",
       "      <th>8</th>\n",
       "      <td>7.491</td>\n",
       "      <td>80</td>\n",
       "    </tr>\n",
       "    <tr>\n",
       "      <th>9</th>\n",
       "      <td>7.465</td>\n",
       "      <td>90</td>\n",
       "    </tr>\n",
       "    <tr>\n",
       "      <th>10</th>\n",
       "      <td>7.475</td>\n",
       "      <td>100</td>\n",
       "    </tr>\n",
       "    <tr>\n",
       "      <th>11</th>\n",
       "      <td>7.539</td>\n",
       "      <td>110</td>\n",
       "    </tr>\n",
       "    <tr>\n",
       "      <th>12</th>\n",
       "      <td>7.668</td>\n",
       "      <td>120</td>\n",
       "    </tr>\n",
       "    <tr>\n",
       "      <th>13</th>\n",
       "      <td>7.870</td>\n",
       "      <td>130</td>\n",
       "    </tr>\n",
       "    <tr>\n",
       "      <th>14</th>\n",
       "      <td>8.148</td>\n",
       "      <td>140</td>\n",
       "    </tr>\n",
       "    <tr>\n",
       "      <th>15</th>\n",
       "      <td>8.456</td>\n",
       "      <td>150</td>\n",
       "    </tr>\n",
       "    <tr>\n",
       "      <th>16</th>\n",
       "      <td>8.780</td>\n",
       "      <td>160</td>\n",
       "    </tr>\n",
       "    <tr>\n",
       "      <th>17</th>\n",
       "      <td>9.075</td>\n",
       "      <td>170</td>\n",
       "    </tr>\n",
       "    <tr>\n",
       "      <th>18</th>\n",
       "      <td>9.297</td>\n",
       "      <td>180</td>\n",
       "    </tr>\n",
       "    <tr>\n",
       "      <th>19</th>\n",
       "      <td>9.475</td>\n",
       "      <td>190</td>\n",
       "    </tr>\n",
       "    <tr>\n",
       "      <th>20</th>\n",
       "      <td>9.485</td>\n",
       "      <td>200</td>\n",
       "    </tr>\n",
       "    <tr>\n",
       "      <th>21</th>\n",
       "      <td>9.189</td>\n",
       "      <td>210</td>\n",
       "    </tr>\n",
       "    <tr>\n",
       "      <th>22</th>\n",
       "      <td>8.900</td>\n",
       "      <td>220</td>\n",
       "    </tr>\n",
       "    <tr>\n",
       "      <th>23</th>\n",
       "      <td>8.352</td>\n",
       "      <td>230</td>\n",
       "    </tr>\n",
       "    <tr>\n",
       "      <th>24</th>\n",
       "      <td>7.763</td>\n",
       "      <td>240</td>\n",
       "    </tr>\n",
       "    <tr>\n",
       "      <th>25</th>\n",
       "      <td>7.121</td>\n",
       "      <td>250</td>\n",
       "    </tr>\n",
       "    <tr>\n",
       "      <th>26</th>\n",
       "      <td>6.460</td>\n",
       "      <td>260</td>\n",
       "    </tr>\n",
       "    <tr>\n",
       "      <th>27</th>\n",
       "      <td>5.851</td>\n",
       "      <td>270</td>\n",
       "    </tr>\n",
       "    <tr>\n",
       "      <th>28</th>\n",
       "      <td>5.335</td>\n",
       "      <td>280</td>\n",
       "    </tr>\n",
       "    <tr>\n",
       "      <th>29</th>\n",
       "      <td>4.940</td>\n",
       "      <td>290</td>\n",
       "    </tr>\n",
       "    <tr>\n",
       "      <th>30</th>\n",
       "      <td>4.682</td>\n",
       "      <td>300</td>\n",
       "    </tr>\n",
       "    <tr>\n",
       "      <th>31</th>\n",
       "      <td>4.591</td>\n",
       "      <td>310</td>\n",
       "    </tr>\n",
       "    <tr>\n",
       "      <th>32</th>\n",
       "      <td>4.652</td>\n",
       "      <td>320</td>\n",
       "    </tr>\n",
       "    <tr>\n",
       "      <th>33</th>\n",
       "      <td>4.859</td>\n",
       "      <td>330</td>\n",
       "    </tr>\n",
       "    <tr>\n",
       "      <th>34</th>\n",
       "      <td>5.175</td>\n",
       "      <td>340</td>\n",
       "    </tr>\n",
       "    <tr>\n",
       "      <th>35</th>\n",
       "      <td>5.580</td>\n",
       "      <td>350</td>\n",
       "    </tr>\n",
       "  </tbody>\n",
       "</table>\n",
       "</div>"
      ],
      "text/plain": [
       "    f(th)   th\n",
       "0   6.000    0\n",
       "1   6.435   10\n",
       "2   6.863   20\n",
       "3   7.137   30\n",
       "4   7.402   40\n",
       "5   7.482   50\n",
       "6   7.530   60\n",
       "7   7.523   70\n",
       "8   7.491   80\n",
       "9   7.465   90\n",
       "10  7.475  100\n",
       "11  7.539  110\n",
       "12  7.668  120\n",
       "13  7.870  130\n",
       "14  8.148  140\n",
       "15  8.456  150\n",
       "16  8.780  160\n",
       "17  9.075  170\n",
       "18  9.297  180\n",
       "19  9.475  190\n",
       "20  9.485  200\n",
       "21  9.189  210\n",
       "22  8.900  220\n",
       "23  8.352  230\n",
       "24  7.763  240\n",
       "25  7.121  250\n",
       "26  6.460  260\n",
       "27  5.851  270\n",
       "28  5.335  280\n",
       "29  4.940  290\n",
       "30  4.682  300\n",
       "31  4.591  310\n",
       "32  4.652  320\n",
       "33  4.859  330\n",
       "34  5.175  340\n",
       "35  5.580  350"
      ]
     },
     "execution_count": 15,
     "metadata": {},
     "output_type": "execute_result"
    }
   ],
   "source": [
    "df = pd.DataFrame({'th': [0, 10, 20, 30, 40, 50, 60, 70, 80, 90, 100, 110, 120, 130, 140, 150, 160, 170, 180, 190, 200, 210, 220, 230, 240, 250, 260, 270, 280, 290, 300, 310, 320, 330, 340, 350],\n",
    "                  'f(th)':[6,6.435,6.863,7.137,7.402,7.482,7.53,7.523,7.491,7.465,7.475,7.539,7.668,7.87,8.148,8.456,8.78,9.075,9.297,9.475,9.485,9.189,8.9,8.352,7.763,7.121,6.460,5.851,5.335,4.94,4.682,4.591,4.652,4.859,5.175,5.58]})\n",
    "df"
   ]
  },
  {
   "cell_type": "code",
   "execution_count": 4,
   "metadata": {},
   "outputs": [
    {
     "data": {
      "image/png": "[encoded data removed]",
      "text/plain": [
       "<matplotlib.figure.Figure at 0x22e71ea2780>"
      ]
     },
     "metadata": {},
     "output_type": "display_data"
    }
   ],
   "source": [
    "x = df['th']\n",
    "y = df['f(th)']\n",
    "plt.scatter(x,y)\n",
    "plt.show()"
   ]
  },
  {
   "cell_type": "code",
   "execution_count": 23,
   "metadata": {},
   "outputs": [
    {
     "data": {
      "image/png": "[encoded data removed]",
      "text/plain": [
       "<matplotlib.figure.Figure at 0x23f0f4f3e48>"
      ]
     },
     "metadata": {},
     "output_type": "display_data"
    }
   ],
   "source": [
    "p = np.arange(0,350,0.01)\n",
    "q = 7.157 - 1.6355 * np.cos(np.radians(p)) + 0.4918 *np.cos(2 * np.radians(p)) + 0.7947 * np.sin(np.radians(p)) + 0.8496 * np.sin(2 * np.radians(p))\n",
    "plt.plot(p,q)\n",
    "plt.show()"
   ]
  },
  {
   "cell_type": "code",
   "execution_count": 22,
   "metadata": {
    "scrolled": true
   },
   "outputs": [
    {
     "data": {
      "text/html": [
       "<div>\n",
       "<style>\n",
       "    .dataframe thead tr:only-child th {\n",
       "        text-align: right;\n",
       "    }\n",
       "\n",
       "    .dataframe thead th {\n",
       "        text-align: left;\n",
       "    }\n",
       "\n",
       "    .dataframe tbody tr th {\n",
       "        vertical-align: top;\n",
       "    }\n",
       "</style>\n",
       "<table border=\"1\" class=\"dataframe\">\n",
       "  <thead>\n",
       "    <tr style=\"text-align: right;\">\n",
       "      <th></th>\n",
       "      <th>θ</th>\n",
       "      <th>誤差率</th>\n",
       "    </tr>\n",
       "  </thead>\n",
       "  <tbody>\n",
       "    <tr>\n",
       "      <th>0</th>\n",
       "      <td>30</td>\n",
       "      <td>0.243231</td>\n",
       "    </tr>\n",
       "    <tr>\n",
       "      <th>1</th>\n",
       "      <td>90</td>\n",
       "      <td>0.068319</td>\n",
       "    </tr>\n",
       "    <tr>\n",
       "      <th>2</th>\n",
       "      <td>150</td>\n",
       "      <td>0.293985</td>\n",
       "    </tr>\n",
       "    <tr>\n",
       "      <th>3</th>\n",
       "      <td>210</td>\n",
       "      <td>0.340519</td>\n",
       "    </tr>\n",
       "    <tr>\n",
       "      <th>4</th>\n",
       "      <td>270</td>\n",
       "      <td>0.333276</td>\n",
       "    </tr>\n",
       "    <tr>\n",
       "      <th>5</th>\n",
       "      <td>330</td>\n",
       "      <td>0.115450</td>\n",
       "    </tr>\n",
       "  </tbody>\n",
       "</table>\n",
       "</div>"
      ],
      "text/plain": [
       "     θ       誤差率\n",
       "0   30  0.243231\n",
       "1   90  0.068319\n",
       "2  150  0.293985\n",
       "3  210  0.340519\n",
       "4  270  0.333276\n",
       "5  330  0.115450"
      ]
     },
     "execution_count": 22,
     "metadata": {},
     "output_type": "execute_result"
    }
   ],
   "source": [
    "def asd(p):\n",
    "    q = 7.157 - 1.6355 * np.cos(np.radians(p)) + 0.4918 *np.cos(2 * np.radians(p)) + 0.7947 * np.sin(np.radians(p)) + 0.8496 * np.sin(2 * np.radians(p))\n",
    "    return q\n",
    "df1 = pd.DataFrame({'θ':[30, 90, 150, 210, 270, 330],\n",
    "                   '誤差率':[(7.137-asd(30))/7.137*(100), (7.465-asd(90))/7.465*100, (8.456-asd(150))/8.456*(-100), (9.189-asd(210))/9.189*100, (5.851-asd(270))/5.851*(-100), (4.859-asd(330))/4.859*100]})\n",
    "df1"
   ]
  },
  {
   "cell_type": "code",
   "execution_count": 22,
   "metadata": {},
   "outputs": [
    {
     "data": {
      "text/html": [
       "<div>\n",
       "<style>\n",
       "    .dataframe thead tr:only-child th {\n",
       "        text-align: right;\n",
       "    }\n",
       "\n",
       "    .dataframe thead th {\n",
       "        text-align: left;\n",
       "    }\n",
       "\n",
       "    .dataframe tbody tr th {\n",
       "        vertical-align: top;\n",
       "    }\n",
       "</style>\n",
       "<table border=\"1\" class=\"dataframe\">\n",
       "  <thead>\n",
       "    <tr style=\"text-align: right;\">\n",
       "      <th></th>\n",
       "      <th>c</th>\n",
       "      <th>d</th>\n",
       "    </tr>\n",
       "  </thead>\n",
       "  <tbody>\n",
       "    <tr>\n",
       "      <th>0</th>\n",
       "      <td>1.818353</td>\n",
       "      <td>-1.118487</td>\n",
       "    </tr>\n",
       "    <tr>\n",
       "      <th>1</th>\n",
       "      <td>0.981676</td>\n",
       "      <td>0.524731</td>\n",
       "    </tr>\n",
       "  </tbody>\n",
       "</table>\n",
       "</div>"
      ],
      "text/plain": [
       "          c         d\n",
       "0  1.818353 -1.118487\n",
       "1  0.981676  0.524731"
      ]
     },
     "execution_count": 22,
     "metadata": {},
     "output_type": "execute_result"
    }
   ],
   "source": [
    "c1 =( 1.6355**2 + 0.7947 **2)**0.5\n",
    "d1 =np.arctan(-1.6355/0.7947)\n",
    "c2 = ( 0.4918**2 + 0.8496 **2)**0.5\n",
    "d2 = np.arctan(0.4918/0.8496)\n",
    "df3 = pd.DataFrame({'c':[c1,c2],\n",
    "                   'd':[d1,d2]})\n",
    "df3"
   ]
  },
  {
   "cell_type": "code",
   "execution_count": null,
   "metadata": {
    "collapsed": true
   },
   "outputs": [],
   "source": [
    "ax = plt.subplot"
   ]
  },
  {
   "cell_type": "code",
   "execution_count": 20,
   "metadata": {},
   "outputs": [
    {
     "data": {
      "image/png": "[encoded data removed]",
      "text/plain": [
       "<matplotlib.figure.Figure at 0x23f106c8d30>"
      ]
     },
     "metadata": {},
     "output_type": "display_data"
    }
   ],
   "source": [
    "ap = plt.subplot(111,projection=\"polar\")\n",
    "p=np.arange(0,2*np.pi,0.1)\n",
    "r=7.157 - 1.6355 * np.cos(p) + 0.4918 *np.cos(2 * p) + 0.7947 * np.sin(p) + 0.8496 * np.sin(2 * p)\n",
    "ap.plot(p,r, color=\"r\")\n",
    "p = [0,np.radians(10),np.radians(20),np.radians(30),np.radians(40),np.radians(50),np.radians(60),np.radians(70),np.radians(80),np.radians(90),np.radians(100),np.radians(110),np.radians(120),np.radians(130),np.radians(140),np.radians(150),np.radians(160),np.radians(170),np.radians(180),np.radians(190),np.radians(200),np.radians(210),np.radians(220),np.radians(230),np.radians(240),np.radians(250),np.radians(260),np.radians(270),np.radians(280),np.radians(290),np.radians(300),np.radians(310),np.radians(320),np.radians(330),np.radians(340),np.radians(350)]\n",
    "r = df['f(th)']\n",
    "plt.scatter(p,r)\n",
    "plt.show()"
   ]
  },
  {
   "cell_type": "code",
   "execution_count": 19,
   "metadata": {},
   "outputs": [
    {
     "data": {
      "image/png": "[encoded data removed]",
      "text/plain": [
       "<matplotlib.figure.Figure at 0x23f0f4f36d8>"
      ]
     },
     "metadata": {},
     "output_type": "display_data"
    }
   ],
   "source": [
    "x = df['th']\n",
    "y = df['f(th)']\n",
    "plt.scatter(x,y)\n",
    "x = np.arange(0,350,0.01)\n",
    "y = 7.157 - 1.6355 * np.cos(np.radians(x)) + 0.4918 *np.cos(2 * np.radians(x)) + 0.7947 * np.sin(np.radians(x)) + 0.8496 * np.sin(2 * np.radians(x))\n",
    "plt.plot(x,y,color=\"r\")\n",
    "plt.xlabel(\"θ[deg]\")\n",
    "plt.ylabel(\"F(θ)[mm]\")\n",
    "plt.show()"
   ]
  },
  {
   "cell_type": "code",
   "execution_count": 29,
   "metadata": {
    "collapsed": true
   },
   "outputs": [],
   "source": [
    "import pandas as pd\n",
    "import numpy as np\n",
    "import matplotlib.pyplot as plt\n",
    "def qwe2(k):\n",
    "    b = (6 * np.sin(k * np.radians(0)) + 7.53 * np.sin(k * np.radians(60)) + 7.668 * np.sin(k * np.radians(120)) + 9.297 * np.sin(k * np.radians(180)) + 7.763 * np.sin(k * np.radians(240)) + 4.682 * np.sin(k * np.radians(300))\n",
    "        + 6.863 * np.sin(k * np.radians(20)) + 7.491 * np.sin(k * np.radians(80)) + 8.148 * np.sin(k * np.radians(140)) + 9.485 * np.sin(k * np.radians(200)) + 6.46 * np.sin(k * np.radians(260)) + 4.652 * np.sin(k * np.radians(320))) /6\n",
    "    return b\n",
    "def rty2(k):\n",
    "    a = (6 * np.cos(k * np.radians(0)) + 7.53 * np.cos(k * np.radians(60)) + 7.668 * np.cos(k * np.radians(120)) + 9.297 * np.cos(k * np.radians(180)) + 7.763 * np.cos(k * np.radians(240)) + 4.682 * np.cos(k * np.radians(300))\n",
    "        + 6.863 * np.cos(k * np.radians(20)) + 7.491 * np.cos(k * np.radians(80)) + 8.148 * np.cos(k * np.radians(140)) + 9.485 * np.cos(k * np.radians(200)) + 6.46 * np.cos(k * np.radians(260)) + 4.652 * np.cos(k * np.radians(320))) /6\n",
    "    return a"
   ]
  },
  {
   "cell_type": "code",
   "execution_count": 30,
   "metadata": {},
   "outputs": [
    {
     "name": "stdout",
     "output_type": "stream",
     "text": [
      "-1.64490569228 0.518639912944 -0.0260833333333 0.495553481399\n",
      "0.79165223294 0.870498064579 -0.0226609980657 0.0342561009334\n"
     ]
    }
   ],
   "source": [
    "print(rty2(1),rty2(2),rty2(3),rty2(4))\n",
    "print(qwe2(1),qwe2(2),qwe2(3),qwe2(4))"
   ]
  },
  {
   "cell_type": "code",
   "execution_count": 45,
   "metadata": {},
   "outputs": [
    {
     "data": {
      "image/png": "[encoded data removed]",
      "text/plain": [
       "<matplotlib.figure.Figure at 0x23f108c54e0>"
      ]
     },
     "metadata": {},
     "output_type": "display_data"
    }
   ],
   "source": [
    "x = df['th']\n",
    "y = df['f(th)']\n",
    "plt.scatter(x,y)\n",
    "x = np.arange(0,350,0.01)\n",
    "y = 7.157 - 1.6449 * np.cos(np.radians(x)) + 0.5186 *np.cos(2 * np.radians(x)) - 0.026 * np.cos(3 * np.radians(x)) + 0.4955 * np.cos(4 * np.radians(x)) + 0.7916 * np.sin(np.radians(x)) + 0.8704 * np.sin(2 * np.radians(x)) - 0.0226 * np.sin(3 * np.radians(x)) - 0.034 * np.sin(4 * np.radians(x))\n",
    "plt.plot(x,y,color=\"r\")\n",
    "plt.xlabel(\"θ[deg]\")\n",
    "plt.ylabel(\"F(θ)[mm]\")\n",
    "plt.show()"
   ]
  },
  {
   "cell_type": "code",
   "execution_count": 32,
   "metadata": {},
   "outputs": [
    {
     "data": {
      "image/png": "[encoded data removed]",
      "text/plain": [
       "<matplotlib.figure.Figure at 0x23f108bd128>"
      ]
     },
     "metadata": {},
     "output_type": "display_data"
    }
   ],
   "source": [
    "x = df['th']\n",
    "y = df['f(th)']\n",
    "plt.scatter(x,y)\n",
    "x = np.arange(0,350,0.01)\n",
    "y = 7.157 - 1.6355 * np.cos(np.radians(x)) + 0.4918 *np.cos(2 * np.radians(x)) + 0.7947 * np.sin(np.radians(x)) + 0.8496 * np.sin(2 * np.radians(x)) \n",
    "plt.plot(x,y,color=\"r\")\n",
    "plt.xlabel(\"θ[deg]\")\n",
    "plt.ylabel(\"F(θ)[mm]\")\n",
    "plt.show()"
   ]
  },
  {
   "cell_type": "code",
   "execution_count": 49,
   "metadata": {},
   "outputs": [
    {
     "data": {
      "text/html": [
       "<div>\n",
       "<style>\n",
       "    .dataframe thead tr:only-child th {\n",
       "        text-align: right;\n",
       "    }\n",
       "\n",
       "    .dataframe thead th {\n",
       "        text-align: left;\n",
       "    }\n",
       "\n",
       "    .dataframe tbody tr th {\n",
       "        vertical-align: top;\n",
       "    }\n",
       "</style>\n",
       "<table border=\"1\" class=\"dataframe\">\n",
       "  <thead>\n",
       "    <tr style=\"text-align: right;\">\n",
       "      <th></th>\n",
       "      <th>θ</th>\n",
       "      <th>誤差率</th>\n",
       "    </tr>\n",
       "  </thead>\n",
       "  <tbody>\n",
       "    <tr>\n",
       "      <th>0</th>\n",
       "      <td>30</td>\n",
       "      <td>13.997962</td>\n",
       "    </tr>\n",
       "    <tr>\n",
       "      <th>1</th>\n",
       "      <td>90</td>\n",
       "      <td>6.519759</td>\n",
       "    </tr>\n",
       "    <tr>\n",
       "      <th>2</th>\n",
       "      <td>150</td>\n",
       "      <td>6.087211</td>\n",
       "    </tr>\n",
       "    <tr>\n",
       "      <th>3</th>\n",
       "      <td>210</td>\n",
       "      <td>11.023675</td>\n",
       "    </tr>\n",
       "    <tr>\n",
       "      <th>4</th>\n",
       "      <td>270</td>\n",
       "      <td>8.738677</td>\n",
       "    </tr>\n",
       "    <tr>\n",
       "      <th>5</th>\n",
       "      <td>330</td>\n",
       "      <td>9.966360</td>\n",
       "    </tr>\n",
       "  </tbody>\n",
       "</table>\n",
       "</div>"
      ],
      "text/plain": [
       "     θ        誤差率\n",
       "0   30  13.997962\n",
       "1   90   6.519759\n",
       "2  150   6.087211\n",
       "3  210  11.023675\n",
       "4  270   8.738677\n",
       "5  330   9.966360"
      ]
     },
     "execution_count": 49,
     "metadata": {},
     "output_type": "execute_result"
    }
   ],
   "source": [
    "def asd2(x):\n",
    "    y = 7.157 - 1.6355 * np.cos(np.radians(x)) + 0.4918 *np.cos(2 * np.radians(x)) - 0.026 * np.cos(3 * np.radians(x)) + 0.4918 * np.cos(4 * np.radians(x)) + 0.7947 * np.sin(np.radians(x)) + 0.8496 * np.sin(2 * np.radians(x)) - 0 * np.sin(3 * np.radians(x)) - 0.8496 * np.sin(4 * np.radians(x))\n",
    "    return y\n",
    "df2 = pd.DataFrame({'θ':[30, 90, 150, 210, 270, 330],\n",
    "                   '誤差率':[(7.137-asd2(30))/7.137*(100), (7.465-asd2(90))/7.465*(-100), (8.456-asd2(150))/8.456*(-100), (9.189-asd2(210))/9.189*100, (5.851-asd2(270))/5.851*(-100), (4.859-asd2(330))/4.859*(-100)]})\n",
    "df2"
   ]
  },
  {
   "cell_type": "code",
   "execution_count": 52,
   "metadata": {},
   "outputs": [
    {
     "data": {
      "text/html": [
       "<div>\n",
       "<style>\n",
       "    .dataframe thead tr:only-child th {\n",
       "        text-align: right;\n",
       "    }\n",
       "\n",
       "    .dataframe thead th {\n",
       "        text-align: left;\n",
       "    }\n",
       "\n",
       "    .dataframe tbody tr th {\n",
       "        vertical-align: top;\n",
       "    }\n",
       "</style>\n",
       "<table border=\"1\" class=\"dataframe\">\n",
       "  <thead>\n",
       "    <tr style=\"text-align: right;\">\n",
       "      <th></th>\n",
       "      <th>θ</th>\n",
       "      <th>誤差率</th>\n",
       "    </tr>\n",
       "  </thead>\n",
       "  <tbody>\n",
       "    <tr>\n",
       "      <th>0</th>\n",
       "      <td>30</td>\n",
       "      <td>4.139436</td>\n",
       "    </tr>\n",
       "    <tr>\n",
       "      <th>1</th>\n",
       "      <td>90</td>\n",
       "      <td>6.471534</td>\n",
       "    </tr>\n",
       "    <tr>\n",
       "      <th>2</th>\n",
       "      <td>150</td>\n",
       "      <td>2.531557</td>\n",
       "    </tr>\n",
       "    <tr>\n",
       "      <th>3</th>\n",
       "      <td>210</td>\n",
       "      <td>2.663850</td>\n",
       "    </tr>\n",
       "    <tr>\n",
       "      <th>4</th>\n",
       "      <td>270</td>\n",
       "      <td>8.010596</td>\n",
       "    </tr>\n",
       "    <tr>\n",
       "      <th>5</th>\n",
       "      <td>330</td>\n",
       "      <td>4.373715</td>\n",
       "    </tr>\n",
       "  </tbody>\n",
       "</table>\n",
       "</div>"
      ],
      "text/plain": [
       "     θ       誤差率\n",
       "0   30  4.139436\n",
       "1   90  6.471534\n",
       "2  150  2.531557\n",
       "3  210  2.663850\n",
       "4  270  8.010596\n",
       "5  330  4.373715"
      ]
     },
     "execution_count": 52,
     "metadata": {},
     "output_type": "execute_result"
    }
   ],
   "source": [
    "def asd3(x):\n",
    "  y = 7.157 - 1.6449 * np.cos(np.radians(x)) + 0.5186 *np.cos(2 * np.radians(x)) - 0.026 * np.cos(3 * np.radians(x)) + 0.4955 * np.cos(4 * np.radians(x)) + 0.7916 * np.sin(np.radians(x)) + 0.8704 * np.sin(2 * np.radians(x)) - 0.0226 * np.sin(3 * np.radians(x)) - 0.034 * np.sin(4 * np.radians(x))\n",
    "  return y\n",
    "df3 = pd.DataFrame({'θ':[30, 90, 150, 210, 270, 330],\n",
    "                   '誤差率':[(7.137-asd3(30))/7.137*(100), (7.465-asd3(90))/7.465*(-100), (8.456-asd3(150))/8.456*100, (9.189-asd3(210))/9.189*100, (5.851-asd3(270))/5.851*(-100), (4.859-asd3(330))/4.859*100]})\n",
    "df3"
   ]
  },
  {
   "cell_type": "code",
   "execution_count": 3,
   "metadata": {},
   "outputs": [
    {
     "data": {
      "text/html": [
       "<div>\n",
       "<style>\n",
       "    .dataframe thead tr:only-child th {\n",
       "        text-align: right;\n",
       "    }\n",
       "\n",
       "    .dataframe thead th {\n",
       "        text-align: left;\n",
       "    }\n",
       "\n",
       "    .dataframe tbody tr th {\n",
       "        vertical-align: top;\n",
       "    }\n",
       "</style>\n",
       "<table border=\"1\" class=\"dataframe\">\n",
       "  <thead>\n",
       "    <tr style=\"text-align: right;\">\n",
       "      <th></th>\n",
       "      <th>c</th>\n",
       "      <th>d</th>\n",
       "    </tr>\n",
       "  </thead>\n",
       "  <tbody>\n",
       "    <tr>\n",
       "      <th>0</th>\n",
       "      <td>1.818353</td>\n",
       "      <td>-64.084584</td>\n",
       "    </tr>\n",
       "    <tr>\n",
       "      <th>1</th>\n",
       "      <td>0.981676</td>\n",
       "      <td>30.064861</td>\n",
       "    </tr>\n",
       "  </tbody>\n",
       "</table>\n",
       "</div>"
      ],
      "text/plain": [
       "          c          d\n",
       "0  1.818353 -64.084584\n",
       "1  0.981676  30.064861"
      ]
     },
     "execution_count": 3,
     "metadata": {},
     "output_type": "execute_result"
    }
   ],
   "source": [
    "c1 =( 1.6355**2 + 0.7947 **2)**0.5\n",
    "d1 = np.rad2deg(np.arctan(-1.6355/0.7947))\n",
    "c2 = ( 0.4918**2 + 0.8496 **2)**0.5\n",
    "d2 = np.rad2deg(np.arctan(0.4918/0.8496))\n",
    "df3 = pd.DataFrame({'c':[c1,c2],\n",
    "                   'd':[d1,d2]})\n",
    "df3"
   ]
  },
  {
   "cell_type": "code",
   "execution_count": 4,
   "metadata": {},
   "outputs": [
    {
     "data": {
      "text/html": [
       "<div>\n",
       "<style>\n",
       "    .dataframe thead tr:only-child th {\n",
       "        text-align: right;\n",
       "    }\n",
       "\n",
       "    .dataframe thead th {\n",
       "        text-align: left;\n",
       "    }\n",
       "\n",
       "    .dataframe tbody tr th {\n",
       "        vertical-align: top;\n",
       "    }\n",
       "</style>\n",
       "<table border=\"1\" class=\"dataframe\">\n",
       "  <thead>\n",
       "    <tr style=\"text-align: right;\">\n",
       "      <th></th>\n",
       "      <th>θ</th>\n",
       "      <th>誤差率</th>\n",
       "    </tr>\n",
       "  </thead>\n",
       "  <tbody>\n",
       "    <tr>\n",
       "      <th>0</th>\n",
       "      <td>30</td>\n",
       "      <td>0.243231</td>\n",
       "    </tr>\n",
       "    <tr>\n",
       "      <th>1</th>\n",
       "      <td>90</td>\n",
       "      <td>0.068319</td>\n",
       "    </tr>\n",
       "    <tr>\n",
       "      <th>2</th>\n",
       "      <td>150</td>\n",
       "      <td>0.293985</td>\n",
       "    </tr>\n",
       "    <tr>\n",
       "      <th>3</th>\n",
       "      <td>210</td>\n",
       "      <td>0.340519</td>\n",
       "    </tr>\n",
       "    <tr>\n",
       "      <th>4</th>\n",
       "      <td>270</td>\n",
       "      <td>0.333276</td>\n",
       "    </tr>\n",
       "    <tr>\n",
       "      <th>5</th>\n",
       "      <td>330</td>\n",
       "      <td>0.115450</td>\n",
       "    </tr>\n",
       "  </tbody>\n",
       "</table>\n",
       "</div>"
      ],
      "text/plain": [
       "     θ       誤差率\n",
       "0   30  0.243231\n",
       "1   90  0.068319\n",
       "2  150  0.293985\n",
       "3  210  0.340519\n",
       "4  270  0.333276\n",
       "5  330  0.115450"
      ]
     },
     "execution_count": 4,
     "metadata": {},
     "output_type": "execute_result"
    }
   ],
   "source": [
    "def asd3(x):\n",
    "    y = 7.157 - 1.6355 * np.cos(np.radians(x)) + 0.4918 *np.cos(2 * np.radians(x)) + 0.7947 * np.sin(np.radians(x)) + 0.8496 * np.sin(2 * np.radians(x)) \n",
    "    return y\n",
    "df3 = pd.DataFrame({'θ':[30, 90, 150, 210, 270, 330],\n",
    "                   '誤差率':[(7.137-asd3(30))/7.137*(100), (7.465-asd3(90))/7.465*100, (8.456-asd3(150))/8.456*(-100), (9.189-asd3(210))/9.189*100, (5.851-asd3(270))/5.851*(-100), (4.859-asd3(330))/4.859*100]})\n",
    "df3"
   ]
  },
  {
   "cell_type": "code",
   "execution_count": 6,
   "metadata": {},
   "outputs": [],
   "source": [
    "import pandas as pd\n",
    "import numpy as np\n",
    "import matplotlib.pyplot as plt\n",
    "def qwe2(k):\n",
    "    b = (6 * np.sin(k * np.radians(0)) + 7.53 * np.sin(k * np.radians(60)) + 7.668 * np.sin(k * np.radians(120)) + 9.297 * np.sin(k * np.radians(180)) + 7.763 * np.sin(k * np.radians(240)) + 4.682 * np.sin(k * np.radians(300))\n",
    "        + 6.863 * np.sin(k * np.radians(20)) + 7.491 * np.sin(k * np.radians(80)) + 8.148 * np.sin(k * np.radians(140)) + 9.485 * np.sin(k * np.radians(200)) + 6.46 * np.sin(k * np.radians(260)) + 4.652 * np.sin(k * np.radians(320))\n",
    "         +6.435 * np.sin(k * np.radians(10)) +7.523 * np.sin(k * np.radians(70)) + 7.87 * np.sin(k * np.radians(130)) + 9.475 * np.sin(k * np.radians(190)) + 7.121 * np.sin(k * np.radians(250)) + 4.591 * np.sin(k * np.radians(310))) /9\n",
    "    return b\n",
    "def rty2(k):\n",
    "    a = (6 * np.cos(k * np.radians(0)) + 7.53 * np.cos(k * np.radians(60)) + 7.668 * np.cos(k * np.radians(120)) + 9.297 * np.cos(k * np.radians(180)) + 7.763 * np.cos(k * np.radians(240)) + 4.682 * np.cos(k * np.radians(300))\n",
    "        + 6.863 * np.cos(k * np.radians(20)) + 7.491 * np.cos(k * np.radians(80)) + 8.148 * np.cos(k * np.radians(140)) + 9.485 * np.cos(k * np.radians(200)) + 6.46 * np.cos(k * np.radians(260)) + 4.652 * np.cos(k * np.radians(320)) +\n",
    "        6.435 * np.cos(k * np.radians(10)) +7.523 * np.cos(k * np.radians(70)) + 7.87 * np.cos(k * np.radians(130)) + 9.475 * np.cos(k * np.radians(190)) + 7.121 * np.cos(k * np.radians(250)) + 4.591 * np.cos(k * np.radians(310))) /9\n",
    "    return a"
   ]
  },
  {
   "cell_type": "markdown",
   "metadata": {},
   "source": [
    "print(rty2(1),rty2(2),rty2(3),rty2(4))\n",
    "print(qwe2(1),qwe2(2),qwe2(3),qwe2(4))"
   ]
  },
  {
   "cell_type": "code",
   "execution_count": 7,
   "metadata": {},
   "outputs": [
    {
     "name": "stdout",
     "output_type": "stream",
     "text": [
      "-1.64816202193 0.520062700825 -0.0330735712019 0.666053571617\n",
      "0.79018212223 0.867313468194 -0.0241628875993 0.030297305176\n"
     ]
    }
   ],
   "source": [
    "print(rty2(1),rty2(2),rty2(3),rty2(4))\n",
    "print(qwe2(1),qwe2(2),qwe2(3),qwe2(4))"
   ]
  },
  {
   "cell_type": "code",
   "execution_count": null,
   "metadata": {
    "collapsed": true
   },
   "outputs": [],
   "source": []
  }
 ],
 "metadata": {
  "kernelspec": {
   "display_name": "Python 3",
   "language": "python",
   "name": "python3"
  },
  "language_info": {
   "codemirror_mode": {
    "name": "ipython",
    "version": 3
   },
   "file_extension": ".py",
   "mimetype": "text/x-python",
   "name": "python",
   "nbconvert_exporter": "python",
   "pygments_lexer": "ipython3",
   "version": "3.6.1"
  }
 },
 "nbformat": 4,
 "nbformat_minor": 2
}
