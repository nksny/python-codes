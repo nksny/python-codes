{
 "cells": [
  {
   "cell_type": "code",
   "execution_count": 5,
   "metadata": {},
   "outputs": [
    {
     "data": {
      "text/html": [
       "<div>\n",
       "<style>\n",
       "    .dataframe thead tr:only-child th {\n",
       "        text-align: right;\n",
       "    }\n",
       "\n",
       "    .dataframe thead th {\n",
       "        text-align: left;\n",
       "    }\n",
       "\n",
       "    .dataframe tbody tr th {\n",
       "        vertical-align: top;\n",
       "    }\n",
       "</style>\n",
       "<table border=\"1\" class=\"dataframe\">\n",
       "  <thead>\n",
       "    <tr style=\"text-align: right;\">\n",
       "      <th></th>\n",
       "      <th>50m走(x)</th>\n",
       "      <th>体重(y)</th>\n",
       "      <th>年齢(z)</th>\n",
       "    </tr>\n",
       "  </thead>\n",
       "  <tbody>\n",
       "    <tr>\n",
       "      <th>0</th>\n",
       "      <td>10.89</td>\n",
       "      <td>20.08</td>\n",
       "      <td>6</td>\n",
       "    </tr>\n",
       "    <tr>\n",
       "      <th>1</th>\n",
       "      <td>10.77</td>\n",
       "      <td>21.60</td>\n",
       "      <td>6</td>\n",
       "    </tr>\n",
       "    <tr>\n",
       "      <th>2</th>\n",
       "      <td>11.12</td>\n",
       "      <td>20.51</td>\n",
       "      <td>6</td>\n",
       "    </tr>\n",
       "    <tr>\n",
       "      <th>3</th>\n",
       "      <td>11.16</td>\n",
       "      <td>21.84</td>\n",
       "      <td>7</td>\n",
       "    </tr>\n",
       "    <tr>\n",
       "      <th>4</th>\n",
       "      <td>10.46</td>\n",
       "      <td>27.55</td>\n",
       "      <td>7</td>\n",
       "    </tr>\n",
       "    <tr>\n",
       "      <th>5</th>\n",
       "      <td>10.55</td>\n",
       "      <td>22.64</td>\n",
       "      <td>7</td>\n",
       "    </tr>\n",
       "    <tr>\n",
       "      <th>6</th>\n",
       "      <td>9.66</td>\n",
       "      <td>24.46</td>\n",
       "      <td>8</td>\n",
       "    </tr>\n",
       "    <tr>\n",
       "      <th>7</th>\n",
       "      <td>9.97</td>\n",
       "      <td>24.51</td>\n",
       "      <td>8</td>\n",
       "    </tr>\n",
       "    <tr>\n",
       "      <th>8</th>\n",
       "      <td>9.45</td>\n",
       "      <td>26.72</td>\n",
       "      <td>8</td>\n",
       "    </tr>\n",
       "    <tr>\n",
       "      <th>9</th>\n",
       "      <td>9.25</td>\n",
       "      <td>29.95</td>\n",
       "      <td>9</td>\n",
       "    </tr>\n",
       "    <tr>\n",
       "      <th>10</th>\n",
       "      <td>9.78</td>\n",
       "      <td>26.05</td>\n",
       "      <td>9</td>\n",
       "    </tr>\n",
       "    <tr>\n",
       "      <th>11</th>\n",
       "      <td>10.24</td>\n",
       "      <td>25.75</td>\n",
       "      <td>9</td>\n",
       "    </tr>\n",
       "    <tr>\n",
       "      <th>12</th>\n",
       "      <td>9.62</td>\n",
       "      <td>36.68</td>\n",
       "      <td>10</td>\n",
       "    </tr>\n",
       "    <tr>\n",
       "      <th>13</th>\n",
       "      <td>8.72</td>\n",
       "      <td>29.49</td>\n",
       "      <td>10</td>\n",
       "    </tr>\n",
       "    <tr>\n",
       "      <th>14</th>\n",
       "      <td>9.45</td>\n",
       "      <td>33.71</td>\n",
       "      <td>10</td>\n",
       "    </tr>\n",
       "    <tr>\n",
       "      <th>15</th>\n",
       "      <td>8.45</td>\n",
       "      <td>33.41</td>\n",
       "      <td>11</td>\n",
       "    </tr>\n",
       "    <tr>\n",
       "      <th>16</th>\n",
       "      <td>8.36</td>\n",
       "      <td>33.64</td>\n",
       "      <td>11</td>\n",
       "    </tr>\n",
       "    <tr>\n",
       "      <th>17</th>\n",
       "      <td>8.64</td>\n",
       "      <td>34.02</td>\n",
       "      <td>11</td>\n",
       "    </tr>\n",
       "    <tr>\n",
       "      <th>18</th>\n",
       "      <td>7.85</td>\n",
       "      <td>48.06</td>\n",
       "      <td>12</td>\n",
       "    </tr>\n",
       "    <tr>\n",
       "      <th>19</th>\n",
       "      <td>8.01</td>\n",
       "      <td>46.37</td>\n",
       "      <td>12</td>\n",
       "    </tr>\n",
       "    <tr>\n",
       "      <th>20</th>\n",
       "      <td>8.33</td>\n",
       "      <td>42.57</td>\n",
       "      <td>12</td>\n",
       "    </tr>\n",
       "  </tbody>\n",
       "</table>\n",
       "</div>"
      ],
      "text/plain": [
       "    50m走(x)  体重(y)  年齢(z)\n",
       "0     10.89  20.08      6\n",
       "1     10.77  21.60      6\n",
       "2     11.12  20.51      6\n",
       "3     11.16  21.84      7\n",
       "4     10.46  27.55      7\n",
       "5     10.55  22.64      7\n",
       "6      9.66  24.46      8\n",
       "7      9.97  24.51      8\n",
       "8      9.45  26.72      8\n",
       "9      9.25  29.95      9\n",
       "10     9.78  26.05      9\n",
       "11    10.24  25.75      9\n",
       "12     9.62  36.68     10\n",
       "13     8.72  29.49     10\n",
       "14     9.45  33.71     10\n",
       "15     8.45  33.41     11\n",
       "16     8.36  33.64     11\n",
       "17     8.64  34.02     11\n",
       "18     7.85  48.06     12\n",
       "19     8.01  46.37     12\n",
       "20     8.33  42.57     12"
      ]
     },
     "execution_count": 5,
     "metadata": {},
     "output_type": "execute_result"
    }
   ],
   "source": [
    "import pandas as pd\n",
    "import numpy as np\n",
    "import matplotlib.pyplot as plt\n",
    "df = pd.DataFrame({ '50m走(x)' :[10.89, 10.77, 11.12, 11.16, 10.46, 10.55, 9.66, 9.97, 9.45, 9.25, 9.78, 10.24, 9.62, 8.72, 9.45, 8.45, 8.36, 8.64, 7.85, 8.01, 8.33],\n",
    "                  '体重(y)' : [20.08, 21.60, 20.51, 21.84, 27.55, 22.64, 24.46, 24.51, 26.72, 29.95, 26.05, 25.75, 36.68, 29.49, 33.71, 33.41, 33.64, 34.02, 48.06, 46.37, 42.57],\n",
    "                  '年齢(z)' : [6, 6, 6, 7, 7, 7, 8, 8, 8, 9, 9, 9, 10, 10, 10, 11, 11, 11, 12, 12, 12]})\n",
    "df"
   ]
  },
  {
   "cell_type": "code",
   "execution_count": 5,
   "metadata": {
    "scrolled": true
   },
   "outputs": [
    {
     "data": {
      "text/html": [
       "<div>\n",
       "<style>\n",
       "    .dataframe thead tr:only-child th {\n",
       "        text-align: right;\n",
       "    }\n",
       "\n",
       "    .dataframe thead th {\n",
       "        text-align: left;\n",
       "    }\n",
       "\n",
       "    .dataframe tbody tr th {\n",
       "        vertical-align: top;\n",
       "    }\n",
       "</style>\n",
       "<table border=\"1\" class=\"dataframe\">\n",
       "  <thead>\n",
       "    <tr style=\"text-align: right;\">\n",
       "      <th></th>\n",
       "      <th>50m走(x)</th>\n",
       "      <th>体重(y)</th>\n",
       "      <th>年齢(z)</th>\n",
       "    </tr>\n",
       "  </thead>\n",
       "  <tbody>\n",
       "    <tr>\n",
       "      <th>50m走(x)</th>\n",
       "      <td>1.000000</td>\n",
       "      <td>-0.875090</td>\n",
       "      <td>-0.944413</td>\n",
       "    </tr>\n",
       "    <tr>\n",
       "      <th>体重(y)</th>\n",
       "      <td>-0.875090</td>\n",
       "      <td>1.000000</td>\n",
       "      <td>0.913183</td>\n",
       "    </tr>\n",
       "    <tr>\n",
       "      <th>年齢(z)</th>\n",
       "      <td>-0.944413</td>\n",
       "      <td>0.913183</td>\n",
       "      <td>1.000000</td>\n",
       "    </tr>\n",
       "  </tbody>\n",
       "</table>\n",
       "</div>"
      ],
      "text/plain": [
       "          50m走(x)     体重(y)     年齢(z)\n",
       "50m走(x)  1.000000 -0.875090 -0.944413\n",
       "体重(y)   -0.875090  1.000000  0.913183\n",
       "年齢(z)   -0.944413  0.913183  1.000000"
      ]
     },
     "execution_count": 5,
     "metadata": {},
     "output_type": "execute_result"
    }
   ],
   "source": [
    "df.corr()"
   ]
  },
  {
   "cell_type": "code",
   "execution_count": 7,
   "metadata": {},
   "outputs": [
    {
     "data": {
      "image/png": "[encoded data removed]",
      "text/plain": [
       "<matplotlib.figure.Figure at 0x200190d7908>"
      ]
     },
     "metadata": {},
     "output_type": "display_data"
    }
   ],
   "source": [
    "import matplotlib.pyplot as plt\n",
    "x = df['50m走(x)']\n",
    "y = df['体重(y)']\n",
    "plt.scatter(x, y)\n",
    "plt.title(\"Scatter plot\")\n",
    "plt.xlabel(\"50meters(x)\")\n",
    "plt.ylabel(\"weight(y)\")\n",
    "plt.show()"
   ]
  },
  {
   "cell_type": "code",
   "execution_count": 12,
   "metadata": {},
   "outputs": [
    {
     "data": {
      "image/png": "[encoded data removed]",
      "text/plain": [
       "<matplotlib.figure.Figure at 0x2001adea208>"
      ]
     },
     "metadata": {},
     "output_type": "display_data"
    }
   ],
   "source": [
    "import matplotlib.pyplot as plt\n",
    "p = [23, 72, 65, 41,78]\n",
    "q = [31, 80, 61, 60, 81]\n",
    "plt.scatter(p, q)\n",
    "plt.show()"
   ]
  },
  {
   "cell_type": "code",
   "execution_count": 13,
   "metadata": {},
   "outputs": [
    {
     "ename": "TypeError",
     "evalue": "unsupported operand type(s) for -: 'list' and 'int'",
     "output_type": "error",
     "traceback": [
      "\u001b[1;31m---------------------------------------------------------------------------\u001b[0m",
      "\u001b[1;31mTypeError\u001b[0m                                 Traceback (most recent call last)",
      "\u001b[1;32m<ipython-input-13-99472a876fa3>\u001b[0m in \u001b[0;36m<module>\u001b[1;34m()\u001b[0m\n\u001b[1;32m----> 1\u001b[1;33m \u001b[0mz\u001b[0m \u001b[1;33m=\u001b[0m \u001b[1;33m(\u001b[0m\u001b[0mp\u001b[0m\u001b[1;33m-\u001b[0m\u001b[1;36m62\u001b[0m\u001b[1;33m)\u001b[0m \u001b[1;33m/\u001b[0m \u001b[1;36m5.1\u001b[0m\u001b[1;33m\u001b[0m\u001b[0m\n\u001b[0m",
      "\u001b[1;31mTypeError\u001b[0m: unsupported operand type(s) for -: 'list' and 'int'"
     ]
    }
   ],
   "source": []
  },
  {
   "cell_type": "code",
   "execution_count": 7,
   "metadata": {
    "collapsed": true
   },
   "outputs": [],
   "source": [
    "def n(xave, sd, x):\n",
    "    z = ( x - xave ) / sd\n",
    "    return(z)"
   ]
  },
  {
   "cell_type": "code",
   "execution_count": 2,
   "metadata": {},
   "outputs": [
    {
     "name": "stdout",
     "output_type": "stream",
     "text": [
      "-7.647058823529412\n"
     ]
    }
   ],
   "source": [
    "norm(62, 5.1, 23)"
   ]
  },
  {
   "cell_type": "code",
   "execution_count": 9,
   "metadata": {
    "scrolled": true
   },
   "outputs": [
    {
     "data": {
      "text/html": [
       "<div>\n",
       "<style>\n",
       "    .dataframe thead tr:only-child th {\n",
       "        text-align: right;\n",
       "    }\n",
       "\n",
       "    .dataframe thead th {\n",
       "        text-align: left;\n",
       "    }\n",
       "\n",
       "    .dataframe tbody tr th {\n",
       "        vertical-align: top;\n",
       "    }\n",
       "</style>\n",
       "<table border=\"1\" class=\"dataframe\">\n",
       "  <thead>\n",
       "    <tr style=\"text-align: right;\">\n",
       "      <th></th>\n",
       "      <th>A</th>\n",
       "      <th>B</th>\n",
       "      <th>C</th>\n",
       "      <th>D</th>\n",
       "      <th>F</th>\n",
       "    </tr>\n",
       "  </thead>\n",
       "  <tbody>\n",
       "    <tr>\n",
       "      <th>0</th>\n",
       "      <td>42.352941</td>\n",
       "      <td>51.960784</td>\n",
       "      <td>50.588235</td>\n",
       "      <td>45.882353</td>\n",
       "      <td>53.137255</td>\n",
       "    </tr>\n",
       "    <tr>\n",
       "      <th>1</th>\n",
       "      <td>48.606557</td>\n",
       "      <td>52.622951</td>\n",
       "      <td>51.065574</td>\n",
       "      <td>50.983607</td>\n",
       "      <td>52.704918</td>\n",
       "    </tr>\n",
       "  </tbody>\n",
       "</table>\n",
       "</div>"
      ],
      "text/plain": [
       "           A          B          C          D          F\n",
       "0  42.352941  51.960784  50.588235  45.882353  53.137255\n",
       "1  48.606557  52.622951  51.065574  50.983607  52.704918"
      ]
     },
     "execution_count": 9,
     "metadata": {},
     "output_type": "execute_result"
    }
   ],
   "source": [
    "df2 = pd.DataFrame({'A' : [50+n(62,5.1,23),50+n(48,12.2,31)],\n",
    "                    'B' : [50+n(62,5.1,72),50+n(48,12.2,80)],\n",
    "                    'C' : [50+n(62,5.1,65),50+n(48,12.2,61)],\n",
    "                    'D' : [50+n(62,5.1,41),50+n(48,12.2,60)],\n",
    "                    'F' : [50+n(62,5.1,78),50+n(48,12.2,81)]})\n",
    "df2"
   ]
  },
  {
   "cell_type": "code",
   "execution_count": 11,
   "metadata": {},
   "outputs": [
    {
     "name": "stdout",
     "output_type": "stream",
     "text": [
      "46.21875\n",
      "105.9375\n"
     ]
    }
   ],
   "source": [
    "def func(m):\n",
    "    n = 0.91875 * m + 23.25\n",
    "    return n\n",
    "print(func(25))\n",
    "print(func(90))"
   ]
  },
  {
   "cell_type": "code",
   "execution_count": 14,
   "metadata": {},
   "outputs": [
    {
     "data": {
      "image/png": "[encoded data removed]",
      "text/plain": [
       "<matplotlib.figure.Figure at 0x2426dbff4a8>"
      ]
     },
     "metadata": {},
     "output_type": "display_data"
    }
   ],
   "source": [
    "import matplotlib.pyplot as plt\n",
    "y = df['50m走(x)']\n",
    "x = df['年齢(z)']\n",
    "plt.scatter(x, y)\n",
    "plt.title(\"Scatter plot\")\n",
    "plt.ylabel(\"50meters(x)\")\n",
    "plt.xlabel(\"age(z)\")\n",
    "plt.show()"
   ]
  },
  {
   "cell_type": "code",
   "execution_count": null,
   "metadata": {
    "collapsed": true
   },
   "outputs": [],
   "source": []
  }
 ],
 "metadata": {
  "kernelspec": {
   "display_name": "Python 3",
   "language": "python",
   "name": "python3"
  },
  "language_info": {
   "codemirror_mode": {
    "name": "ipython",
    "version": 3
   },
   "file_extension": ".py",
   "mimetype": "text/x-python",
   "name": "python",
   "nbconvert_exporter": "python",
   "pygments_lexer": "ipython3",
   "version": "3.6.2"
  }
 },
 "nbformat": 4,
 "nbformat_minor": 2
}
